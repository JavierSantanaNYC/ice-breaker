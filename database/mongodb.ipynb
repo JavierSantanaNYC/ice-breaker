{
 "cells": [
  {
   "cell_type": "code",
   "execution_count": 1,
   "metadata": {},
   "outputs": [],
   "source": [
    "from pymongo import MongoClient\n",
    "import os\n",
    "\n",
    "connection_string = os.environ.get('MONGODB_CONNECTION_ATTENDEE_STRING')"
   ]
  },
  {
   "cell_type": "code",
   "execution_count": null,
   "metadata": {},
   "outputs": [],
   "source": [
    "class MongoDB(connection_string):\n",
    "    client = MongoClient(connection_string)\n",
    "\n",
    "    def __init__(self, database_name):\n",
    "        self.db = self.client[database_name]\n",
    "\n",
    "    def insert(self, collection_name, data):\n",
    "        collection = self.db[collection_name]\n",
    "        collection.insert_one(data)\n",
    "\n",
    "    def find(self, collection_name, query):\n",
    "        collection = self.db[collection_name]\n",
    "        return collection.find(query)\n",
    "\n",
    "    def find_one(self, collection_name, query):\n",
    "        collection = self.db[collection_name]\n",
    "        return collection.find_one(query)\n",
    "\n",
    "    def update_one(self, collection_name, query, data):\n",
    "        collection = self.db[collection_name]\n",
    "        collection.update_one(query, data)\n",
    "\n",
    "    def delete_one(self, collection_name, query):\n",
    "        collection = self.db[collection_name]\n",
    "        collection.delete_one(query)"
   ]
  }
 ],
 "metadata": {
  "kernelspec": {
   "display_name": "ice-breaker-pMXOqz99",
   "language": "python",
   "name": "python3"
  },
  "language_info": {
   "codemirror_mode": {
    "name": "ipython",
    "version": 3
   },
   "file_extension": ".py",
   "mimetype": "text/x-python",
   "name": "python",
   "nbconvert_exporter": "python",
   "pygments_lexer": "ipython3",
   "version": "3.9.14"
  },
  "orig_nbformat": 4,
  "vscode": {
   "interpreter": {
    "hash": "6d87e5915a7a35cd1c5b5a85ab9936f42de4934a1972abc02ff384bd25251d01"
   }
  }
 },
 "nbformat": 4,
 "nbformat_minor": 2
}
