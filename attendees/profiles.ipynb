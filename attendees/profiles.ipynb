{
 "cells": [
  {
   "attachments": {},
   "cell_type": "markdown",
   "metadata": {},
   "source": [
    "#### Attendee registration"
   ]
  },
  {
   "cell_type": "code",
   "execution_count": 1,
   "metadata": {},
   "outputs": [
    {
     "name": "stderr",
     "output_type": "stream",
     "text": [
      "/Users/javier/.local/share/virtualenvs/ice-breaker-kYPj9F3u/lib/python3.9/site-packages/tqdm/auto.py:21: TqdmWarning: IProgress not found. Please update jupyter and ipywidgets. See https://ipywidgets.readthedocs.io/en/stable/user_install.html\n",
      "  from .autonotebook import tqdm as notebook_tqdm\n",
      "None of PyTorch, TensorFlow >= 2.0, or Flax have been found. Models won't be available and only tokenizers, configuration and file/data utilities can be used.\n"
     ]
    }
   ],
   "source": [
    "import json\n",
    "from ipynb.fs.full.gpt import OpenAI\n",
    "attendees = json.load(open('mock-attendees.json'))"
   ]
  },
  {
   "cell_type": "code",
   "execution_count": 2,
   "metadata": {},
   "outputs": [],
   "source": [
    "openai = OpenAI(relevant_memory=[], full_message_history=[])\n",
    "\n",
    "def generate_category_name(text):\n",
    "    (_,\n",
    "     _,\n",
    "     _,\n",
    "     current_context) = openai.generate_chat_context(\"\"\"\n",
    "        You are a help AI assistant for a conference. You are given a list of attendees\n",
    "        and their interests. You need to create a category for each attendee based on\n",
    "        their interests.\n",
    "    \"\"\")\n",
    "    current_context.append(openai.create_chat_message(role='user', content=text))\n",
    "    return openai.create_chat_completion(current_context, 'gpt-4')\n",
    "    \n",
    "\n",
    "def clustering_by_interests(attendees):\n",
    "    categories = []\n",
    "    for attendee in attendees:\n",
    "        interests = attendee['interests']\n",
    "        category_name_prompt = f\"\"\"\n",
    "            Create a single category name for a person with the following interests:\n",
    "                {\", \".join(interests)}\n",
    "            If the category fits one of the categories below, use that instead:\n",
    "                {\", \".join(categories)}\n",
    "            Only reply with the name of category. nothing else.\n",
    "        \"\"\"\n",
    "        category_name = generate_category_name(category_name_prompt)\n",
    "        categories.append(category_name)\n",
    "        attendee['category'] = category_name\n",
    "    return attendees\n",
    "    "
   ]
  },
  {
   "cell_type": "code",
   "execution_count": 5,
   "metadata": {},
   "outputs": [],
   "source": [
    "attendee_categories =  clustering_by_interests(attendees)\n",
    "json.dump(attendee_categories, open('attendee-categories.json', 'w'), indent=2)"
   ]
  },
  {
   "cell_type": "code",
   "execution_count": 9,
   "metadata": {},
   "outputs": [
    {
     "name": "stdout",
     "output_type": "stream",
     "text": [
      "---\n",
      "Avery Anderson - Data Science and AI\n",
      "Chloe Adams - Data Science and AI\n",
      "Lily Clark - Data Science and AI\n",
      "Amelia Taylor - Data Science and AI\n",
      "---\n",
      "Leah Roberts - Emerging Technologies and AI\n",
      "---\n",
      "Zoe Thomas - Software and IoT Development\n",
      "Scarlett White - Software and IoT Development\n",
      "Emily Hall - Software and IoT Development\n",
      "Natalie Jackson - Software and IoT Development\n",
      "Ella Lewis - Software and IoT Development\n",
      "Mia Wilson - Software and IoT Development\n",
      "Isabella Davis - Software and IoT Development\n",
      "Ava Williams - Software and IoT Development\n",
      "Olivia Martin - Software and IoT Development\n",
      "Harper Harris - Software and IoT Development\n",
      "---\n",
      "Charlotte Thompson - Technology and Security\n",
      "Sophie Walker - Technology and Security\n",
      "Grace Turner - Technology and Security\n",
      "Sophia Brown - Technology and Security\n",
      "Emma Johnson - Technology and Security\n",
      "John Doe - Technology and Security\n"
     ]
    }
   ],
   "source": [
    "import pandas as pd\n",
    "\n",
    "df = pd.DataFrame(attendee_categories)\n",
    "by_category = df.sort_values(by='category')\n",
    "category = \"\"\n",
    "for _,row in by_category.iterrows():\n",
    "    if category != row['category']:\n",
    "        category = row['category']\n",
    "        print(\"---\")\n",
    "    print(row['full_name'], \"-\", row['category'])\n"
   ]
  }
 ],
 "metadata": {
  "kernelspec": {
   "display_name": "ice-breaker-kYPj9F3u",
   "language": "python",
   "name": "python3"
  },
  "language_info": {
   "codemirror_mode": {
    "name": "ipython",
    "version": 3
   },
   "file_extension": ".py",
   "mimetype": "text/x-python",
   "name": "python",
   "nbconvert_exporter": "python",
   "pygments_lexer": "ipython3",
   "version": "3.9.16"
  },
  "orig_nbformat": 4
 },
 "nbformat": 4,
 "nbformat_minor": 2
}
