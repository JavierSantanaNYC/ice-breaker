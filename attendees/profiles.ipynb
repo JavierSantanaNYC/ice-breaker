{
 "cells": [
  {
   "attachments": {},
   "cell_type": "markdown",
   "metadata": {},
   "source": [
    "#### Attendee registration"
   ]
  },
  {
   "cell_type": "code",
   "execution_count": 9,
   "metadata": {},
   "outputs": [],
   "source": [
    "import json\n",
    "from ipynb.fs.full.gpt import OpenAI\n",
    "attendees = json.load(open('mock-attendees.json'))\n",
    "event = json.load(open('mock-event.json'))"
   ]
  },
  {
   "cell_type": "code",
   "execution_count": 29,
   "metadata": {},
   "outputs": [],
   "source": [
    "openai = OpenAI(relevant_memory=[], full_message_history=[])\n",
    "\n",
    "\n",
    "def generate_category_name(text):\n",
    "    (_,\n",
    "     _,\n",
    "     _,\n",
    "     current_context) = openai.generate_chat_context(\"\"\"\n",
    "        You are a help AI assistant for a conference. You are given a list of attendees\n",
    "        and their interests. You need to create a category for each attendee based on\n",
    "        their interests.\n",
    "    \"\"\")\n",
    "    current_context.append(\n",
    "        openai.create_chat_message(role='user', content=text))\n",
    "    return openai.create_chat_completion(current_context, 'gpt-4')\n",
    "\n",
    "\n",
    "def clustering_by_interests(attendees):\n",
    "    categories = []\n",
    "    for attendee in attendees:\n",
    "        interests = attendee['interests']\n",
    "        category_name_prompt = f\"\"\"\n",
    "            Create a single category name for a person with the following interests:\n",
    "                {\", \".join(interests)}\n",
    "            If the category fits one of the categories below, use that instead:\n",
    "                {\", \".join(categories)}\n",
    "            Only reply with the name of category. nothing else.\n",
    "        \"\"\"\n",
    "        category_name = generate_category_name(category_name_prompt)\n",
    "        categories.append(category_name)\n",
    "        attendee['category'] = category_name\n",
    "    return attendees\n",
    "\n",
    "\n",
    "def generate_questions(event, attendees):\n",
    "    questions = []\n",
    "    processed = []\n",
    "    current_attendee = attendees[0]\n",
    "    for attendee in attendees:\n",
    "        if attendee != current_attendee:\n",
    "            current_attendee = attendee\n",
    "        for attendee in attendees:\n",
    "            pair = [current_attendee['full_name'], attendee['full_name']]\n",
    "            not_processed = len([pair for pair in processed if current_attendee['full_name']\n",
    "                                in pair and attendee['full_name'] in pair]) == 0\n",
    "            print(pair, not_processed)\n",
    "            if attendee != current_attendee and not_processed:\n",
    "                question_prompt = f\"\"\"\n",
    "                    Generate a list of engaging and quirky ice breaker questions\n",
    "                    between {current_attendee}  and {attendee} and the event their attending.\n",
    "                \"\"\"\n",
    "                (_,\n",
    "                 _,\n",
    "                 _,\n",
    "                 current_context) = openai.generate_chat_context(f\"\"\"\n",
    "                    You are a help AI assistant for a conference. You are given a list of attendees\n",
    "                    and their interests. You need to generate a list of engaging and quirky ice breaker questions based on\n",
    "                    their interests and related to the event their attending. event: {event}.\n",
    "                \"\"\")\n",
    "                current_context.append(openai.create_chat_message(\n",
    "                    role='user', content=question_prompt))\n",
    "                response = openai.create_chat_completion(\n",
    "                    current_context, 'gpt-4')\n",
    "                questions.append({\n",
    "                    'attendees': [current_attendee['full_name'], attendee['full_name']],\n",
    "                    'questions': response\n",
    "                })\n",
    "                processed.append(pair)\n",
    "                print(questions)\n",
    "    return questions\n"
   ]
  },
  {
   "cell_type": "code",
   "execution_count": 4,
   "metadata": {},
   "outputs": [],
   "source": [
    "attendee_categories =  clustering_by_interests(attendees)\n",
    "json.dump(attendee_categories, open('attendee-categories.json', 'w'), indent=2)"
   ]
  },
  {
   "cell_type": "code",
   "execution_count": 5,
   "metadata": {},
   "outputs": [
    {
     "name": "stdout",
     "output_type": "stream",
     "text": [
      "---\n",
      "Avery Anderson - Data Science and AI\n",
      "Chloe Adams - Data Science and AI\n",
      "Lily Clark - Data Science and AI\n",
      "Amelia Taylor - Data Science and AI\n",
      "---\n",
      "Leah Roberts - Emerging Technologies and AI\n",
      "---\n",
      "Zoe Thomas - Software and IoT Development\n",
      "Scarlett White - Software and IoT Development\n",
      "Emily Hall - Software and IoT Development\n",
      "Natalie Jackson - Software and IoT Development\n",
      "Ella Lewis - Software and IoT Development\n",
      "Mia Wilson - Software and IoT Development\n",
      "Isabella Davis - Software and IoT Development\n",
      "Ava Williams - Software and IoT Development\n",
      "Olivia Martin - Software and IoT Development\n",
      "Harper Harris - Software and IoT Development\n",
      "---\n",
      "Charlotte Thompson - Technology and Security\n",
      "Sophie Walker - Technology and Security\n",
      "Grace Turner - Technology and Security\n",
      "Sophia Brown - Technology and Security\n",
      "Emma Johnson - Technology and Security\n",
      "John Doe - Technology and Security\n"
     ]
    }
   ],
   "source": [
    "import pandas as pd\n",
    "\n",
    "df = pd.DataFrame(attendee_categories)\n",
    "by_category = df.sort_values(by='category')\n",
    "category = \"\"\n",
    "for _,row in by_category.iterrows():\n",
    "    if category != row['category']:\n",
    "        category = row['category']\n",
    "        print(\"---\")\n",
    "    print(row['full_name'], \"-\", row['category'])\n"
   ]
  },
  {
   "cell_type": "code",
   "execution_count": 30,
   "metadata": {},
   "outputs": [
    {
     "name": "stdout",
     "output_type": "stream",
     "text": [
      "['John Doe', 'John Doe'] True\n",
      "['John Doe', 'Emma Johnson'] True\n",
      "[{'attendees': ['John Doe', 'Emma Johnson'], 'questions': \"1. If you could create a new AI-powered IoT device to solve a common problem, what would it be and why?\\n\\n2. How do you think the combination of AI and cybersecurity will shape the future of online privacy?\\n\\n3. In your opinion, what is the most exciting development in AI and Big Data analytics in recent years?\\n\\n4. If you could collaborate on a project that combines your interests in AI, IoT, and Machine Learning, what would it be about?\\n\\n5. How do you think AI and Machine Learning can help improve cybersecurity measures in the Internet of Things?\\n\\n6. What was your favorite workshop or hands-on session at the Tech Innovators Conference 2023 so far, and why?\\n\\n7. If you could have a conversation with any AI pioneer, who would it be and what would you ask them?\\n\\n8. How do you think the advancements in AI and Big Data analytics will impact the way businesses operate in the next 5 years?\\n\\n9. What's the most innovative AI or IoT solution you've come across recently, and what makes it stand out?\\n\\n10. If you could use AI to predict one thing about the future of technology, what would it be and why?\"}]\n",
      "['John Doe', 'Olivia Martin'] True\n",
      "[{'attendees': ['John Doe', 'Emma Johnson'], 'questions': \"1. If you could create a new AI-powered IoT device to solve a common problem, what would it be and why?\\n\\n2. How do you think the combination of AI and cybersecurity will shape the future of online privacy?\\n\\n3. In your opinion, what is the most exciting development in AI and Big Data analytics in recent years?\\n\\n4. If you could collaborate on a project that combines your interests in AI, IoT, and Machine Learning, what would it be about?\\n\\n5. How do you think AI and Machine Learning can help improve cybersecurity measures in the Internet of Things?\\n\\n6. What was your favorite workshop or hands-on session at the Tech Innovators Conference 2023 so far, and why?\\n\\n7. If you could have a conversation with any AI pioneer, who would it be and what would you ask them?\\n\\n8. How do you think the advancements in AI and Big Data analytics will impact the way businesses operate in the next 5 years?\\n\\n9. What's the most innovative AI or IoT solution you've come across recently, and what makes it stand out?\\n\\n10. If you could use AI to predict one thing about the future of technology, what would it be and why?\"}, {'attendees': ['John Doe', 'Olivia Martin'], 'questions': \"1. If you could create a smart device using IoT technology to improve your daily life, what would it be and why?\\n\\n2. How do you think the integration of Artificial Intelligence and Internet of Things will shape the future of Cybersecurity?\\n\\n3. What's the most innovative web or mobile app you've come across recently, and what made it stand out to you?\\n\\n4. As a boss and a software engineer, how do you both approach staying up-to-date with the latest trends and technologies in your respective fields?\\n\\n5. If you could collaborate on a project combining your interests in AI, IoT, Web Development, and Mobile App Development, what kind of product or service would you create?\\n\\n6. What are you most looking forward to learning or experiencing at the Tech Innovators Conference 2023?\\n\\n7. Can you share a memorable experience or key takeaway from a past event you've attended, such as the NYC AI Hackathon or a previous Tech Innovators Conference?\\n\\n8. How do you envision the future of work in your respective fields, considering the rapid advancements in technology like AI, IoT, and app development?\\n\\n9. If you could have a conversation with a famous tech innovator, who would it be and what would you ask them?\\n\\n10. What's one technology or trend you believe has the potential to significantly impact your industry in the next 5 years, and how are you preparing for it?\"}]\n",
      "['John Doe', 'Sophia Brown'] True\n",
      "[{'attendees': ['John Doe', 'Emma Johnson'], 'questions': \"1. If you could create a new AI-powered IoT device to solve a common problem, what would it be and why?\\n\\n2. How do you think the combination of AI and cybersecurity will shape the future of online privacy?\\n\\n3. In your opinion, what is the most exciting development in AI and Big Data analytics in recent years?\\n\\n4. If you could collaborate on a project that combines your interests in AI, IoT, and Machine Learning, what would it be about?\\n\\n5. How do you think AI and Machine Learning can help improve cybersecurity measures in the Internet of Things?\\n\\n6. What was your favorite workshop or hands-on session at the Tech Innovators Conference 2023 so far, and why?\\n\\n7. If you could have a conversation with any AI pioneer, who would it be and what would you ask them?\\n\\n8. How do you think the advancements in AI and Big Data analytics will impact the way businesses operate in the next 5 years?\\n\\n9. What's the most innovative AI or IoT solution you've come across recently, and what makes it stand out?\\n\\n10. If you could use AI to predict one thing about the future of technology, what would it be and why?\"}, {'attendees': ['John Doe', 'Olivia Martin'], 'questions': \"1. If you could create a smart device using IoT technology to improve your daily life, what would it be and why?\\n\\n2. How do you think the integration of Artificial Intelligence and Internet of Things will shape the future of Cybersecurity?\\n\\n3. What's the most innovative web or mobile app you've come across recently, and what made it stand out to you?\\n\\n4. As a boss and a software engineer, how do you both approach staying up-to-date with the latest trends and technologies in your respective fields?\\n\\n5. If you could collaborate on a project combining your interests in AI, IoT, Web Development, and Mobile App Development, what kind of product or service would you create?\\n\\n6. What are you most looking forward to learning or experiencing at the Tech Innovators Conference 2023?\\n\\n7. Can you share a memorable experience or key takeaway from a past event you've attended, such as the NYC AI Hackathon or a previous Tech Innovators Conference?\\n\\n8. How do you envision the future of work in your respective fields, considering the rapid advancements in technology like AI, IoT, and app development?\\n\\n9. If you could have a conversation with a famous tech innovator, who would it be and what would you ask them?\\n\\n10. What's one technology or trend you believe has the potential to significantly impact your industry in the next 5 years, and how are you preparing for it?\"}, {'attendees': ['John Doe', 'Sophia Brown'], 'questions': \"1. If you could create a new AI-powered IoT device to improve cybersecurity, what would it be and how would it work?\\n\\n2. How do you think the integration of Artificial Intelligence and Blockchain can revolutionize the cybersecurity landscape?\\n\\n3. If you were to develop a cybersecurity solution using AI, what would be the most challenging aspect to tackle and why?\\n\\n4. In your opinion, which emerging technology has the most potential to disrupt the cybersecurity industry: AI, IoT, or Blockchain? Why?\\n\\n5. Imagine a world where AI-powered cybersecurity systems are the norm. What do you think would be the biggest challenge for human cybersecurity analysts?\\n\\n6. If you could attend a workshop led by an expert in any of your shared interests (AI, IoT, Cybersecurity, or Blockchain), who would it be and why?\\n\\n7. What's the most fascinating AI or cybersecurity-related project you've come across recently, and what makes it stand out?\\n\\n8. If you could collaborate on a project combining AI, IoT, and cybersecurity, what problem would you want to solve and why?\\n\\n9. How do you think the Tech Innovators Conference 2023 will shape the future of AI and cybersecurity, and what are you most excited to learn about?\\n\\n10. If you could create a new AI-driven cybersecurity tool for the Tech Innovators Conference 2023 Startup Showcase, what would it be and how would it benefit the industry?\"}]\n",
      "['John Doe', 'Ava Williams'] True\n",
      "[{'attendees': ['John Doe', 'Emma Johnson'], 'questions': \"1. If you could create a new AI-powered IoT device to solve a common problem, what would it be and why?\\n\\n2. How do you think the combination of AI and cybersecurity will shape the future of online privacy?\\n\\n3. In your opinion, what is the most exciting development in AI and Big Data analytics in recent years?\\n\\n4. If you could collaborate on a project that combines your interests in AI, IoT, and Machine Learning, what would it be about?\\n\\n5. How do you think AI and Machine Learning can help improve cybersecurity measures in the Internet of Things?\\n\\n6. What was your favorite workshop or hands-on session at the Tech Innovators Conference 2023 so far, and why?\\n\\n7. If you could have a conversation with any AI pioneer, who would it be and what would you ask them?\\n\\n8. How do you think the advancements in AI and Big Data analytics will impact the way businesses operate in the next 5 years?\\n\\n9. What's the most innovative AI or IoT solution you've come across recently, and what makes it stand out?\\n\\n10. If you could use AI to predict one thing about the future of technology, what would it be and why?\"}, {'attendees': ['John Doe', 'Olivia Martin'], 'questions': \"1. If you could create a smart device using IoT technology to improve your daily life, what would it be and why?\\n\\n2. How do you think the integration of Artificial Intelligence and Internet of Things will shape the future of Cybersecurity?\\n\\n3. What's the most innovative web or mobile app you've come across recently, and what made it stand out to you?\\n\\n4. As a boss and a software engineer, how do you both approach staying up-to-date with the latest trends and technologies in your respective fields?\\n\\n5. If you could collaborate on a project combining your interests in AI, IoT, Web Development, and Mobile App Development, what kind of product or service would you create?\\n\\n6. What are you most looking forward to learning or experiencing at the Tech Innovators Conference 2023?\\n\\n7. Can you share a memorable experience or key takeaway from a past event you've attended, such as the NYC AI Hackathon or a previous Tech Innovators Conference?\\n\\n8. How do you envision the future of work in your respective fields, considering the rapid advancements in technology like AI, IoT, and app development?\\n\\n9. If you could have a conversation with a famous tech innovator, who would it be and what would you ask them?\\n\\n10. What's one technology or trend you believe has the potential to significantly impact your industry in the next 5 years, and how are you preparing for it?\"}, {'attendees': ['John Doe', 'Sophia Brown'], 'questions': \"1. If you could create a new AI-powered IoT device to improve cybersecurity, what would it be and how would it work?\\n\\n2. How do you think the integration of Artificial Intelligence and Blockchain can revolutionize the cybersecurity landscape?\\n\\n3. If you were to develop a cybersecurity solution using AI, what would be the most challenging aspect to tackle and why?\\n\\n4. In your opinion, which emerging technology has the most potential to disrupt the cybersecurity industry: AI, IoT, or Blockchain? Why?\\n\\n5. Imagine a world where AI-powered cybersecurity systems are the norm. What do you think would be the biggest challenge for human cybersecurity analysts?\\n\\n6. If you could attend a workshop led by an expert in any of your shared interests (AI, IoT, Cybersecurity, or Blockchain), who would it be and why?\\n\\n7. What's the most fascinating AI or cybersecurity-related project you've come across recently, and what makes it stand out?\\n\\n8. If you could collaborate on a project combining AI, IoT, and cybersecurity, what problem would you want to solve and why?\\n\\n9. How do you think the Tech Innovators Conference 2023 will shape the future of AI and cybersecurity, and what are you most excited to learn about?\\n\\n10. If you could create a new AI-driven cybersecurity tool for the Tech Innovators Conference 2023 Startup Showcase, what would it be and how would it benefit the industry?\"}, {'attendees': ['John Doe', 'Ava Williams'], 'questions': \"1. If you could create a smart device using Artificial Intelligence and Internet of Things, what would it be and how would it benefit society?\\n\\n2. How do you think AI-powered cybersecurity measures will change the way we protect our digital assets in the future?\\n\\n3. In your opinion, what is the most exciting development in the field of Robotics and AI that you've come across recently?\\n\\n4. If you could collaborate on a project combining your expertise in Robotics and AI, what problem would you like to solve together?\\n\\n5. How do you think the Internet of Things will impact the future of Robotics and AI in everyday life?\\n\\n6. If you could have a personal AI assistant with a specific skill set tailored to your needs, what would it be and why?\\n\\n7. What was the most memorable moment or takeaway from the NYC AI Hackathon, and how do you think it could be applied to the Tech Innovators Conference 2023?\\n\\n8. How do you envision the role of AI and IoT in the workplace, and how might it change your respective job roles in the future?\\n\\n9. If you could design a robot with AI capabilities to help you in your daily life, what tasks would you want it to perform?\\n\\n10. What are your thoughts on the ethical implications of AI and Robotics advancements, and how do you think society should address these concerns?\"}]\n",
      "['John Doe', 'Isabella Davis'] True\n",
      "[{'attendees': ['John Doe', 'Emma Johnson'], 'questions': \"1. If you could create a new AI-powered IoT device to solve a common problem, what would it be and why?\\n\\n2. How do you think the combination of AI and cybersecurity will shape the future of online privacy?\\n\\n3. In your opinion, what is the most exciting development in AI and Big Data analytics in recent years?\\n\\n4. If you could collaborate on a project that combines your interests in AI, IoT, and Machine Learning, what would it be about?\\n\\n5. How do you think AI and Machine Learning can help improve cybersecurity measures in the Internet of Things?\\n\\n6. What was your favorite workshop or hands-on session at the Tech Innovators Conference 2023 so far, and why?\\n\\n7. If you could have a conversation with any AI pioneer, who would it be and what would you ask them?\\n\\n8. How do you think the advancements in AI and Big Data analytics will impact the way businesses operate in the next 5 years?\\n\\n9. What's the most innovative AI or IoT solution you've come across recently, and what makes it stand out?\\n\\n10. If you could use AI to predict one thing about the future of technology, what would it be and why?\"}, {'attendees': ['John Doe', 'Olivia Martin'], 'questions': \"1. If you could create a smart device using IoT technology to improve your daily life, what would it be and why?\\n\\n2. How do you think the integration of Artificial Intelligence and Internet of Things will shape the future of Cybersecurity?\\n\\n3. What's the most innovative web or mobile app you've come across recently, and what made it stand out to you?\\n\\n4. As a boss and a software engineer, how do you both approach staying up-to-date with the latest trends and technologies in your respective fields?\\n\\n5. If you could collaborate on a project combining your interests in AI, IoT, Web Development, and Mobile App Development, what kind of product or service would you create?\\n\\n6. What are you most looking forward to learning or experiencing at the Tech Innovators Conference 2023?\\n\\n7. Can you share a memorable experience or key takeaway from a past event you've attended, such as the NYC AI Hackathon or a previous Tech Innovators Conference?\\n\\n8. How do you envision the future of work in your respective fields, considering the rapid advancements in technology like AI, IoT, and app development?\\n\\n9. If you could have a conversation with a famous tech innovator, who would it be and what would you ask them?\\n\\n10. What's one technology or trend you believe has the potential to significantly impact your industry in the next 5 years, and how are you preparing for it?\"}, {'attendees': ['John Doe', 'Sophia Brown'], 'questions': \"1. If you could create a new AI-powered IoT device to improve cybersecurity, what would it be and how would it work?\\n\\n2. How do you think the integration of Artificial Intelligence and Blockchain can revolutionize the cybersecurity landscape?\\n\\n3. If you were to develop a cybersecurity solution using AI, what would be the most challenging aspect to tackle and why?\\n\\n4. In your opinion, which emerging technology has the most potential to disrupt the cybersecurity industry: AI, IoT, or Blockchain? Why?\\n\\n5. Imagine a world where AI-powered cybersecurity systems are the norm. What do you think would be the biggest challenge for human cybersecurity analysts?\\n\\n6. If you could attend a workshop led by an expert in any of your shared interests (AI, IoT, Cybersecurity, or Blockchain), who would it be and why?\\n\\n7. What's the most fascinating AI or cybersecurity-related project you've come across recently, and what makes it stand out?\\n\\n8. If you could collaborate on a project combining AI, IoT, and cybersecurity, what problem would you want to solve and why?\\n\\n9. How do you think the Tech Innovators Conference 2023 will shape the future of AI and cybersecurity, and what are you most excited to learn about?\\n\\n10. If you could create a new AI-driven cybersecurity tool for the Tech Innovators Conference 2023 Startup Showcase, what would it be and how would it benefit the industry?\"}, {'attendees': ['John Doe', 'Ava Williams'], 'questions': \"1. If you could create a smart device using Artificial Intelligence and Internet of Things, what would it be and how would it benefit society?\\n\\n2. How do you think AI-powered cybersecurity measures will change the way we protect our digital assets in the future?\\n\\n3. In your opinion, what is the most exciting development in the field of Robotics and AI that you've come across recently?\\n\\n4. If you could collaborate on a project combining your expertise in Robotics and AI, what problem would you like to solve together?\\n\\n5. How do you think the Internet of Things will impact the future of Robotics and AI in everyday life?\\n\\n6. If you could have a personal AI assistant with a specific skill set tailored to your needs, what would it be and why?\\n\\n7. What was the most memorable moment or takeaway from the NYC AI Hackathon, and how do you think it could be applied to the Tech Innovators Conference 2023?\\n\\n8. How do you envision the role of AI and IoT in the workplace, and how might it change your respective job roles in the future?\\n\\n9. If you could design a robot with AI capabilities to help you in your daily life, what tasks would you want it to perform?\\n\\n10. What are your thoughts on the ethical implications of AI and Robotics advancements, and how do you think society should address these concerns?\"}, {'attendees': ['John Doe', 'Isabella Davis'], 'questions': \"1. If you could create a virtual reality experience that combines the power of Artificial Intelligence and the Internet of Things, what would it look like and how would it benefit users?\\n\\n2. Imagine a cybersecurity system that uses Virtual Reality / Augmented Reality for monitoring and defense. How do you think this could change the way we approach cybersecurity?\\n\\n3. How do you think the advancements in AI and IoT will impact the future of web and mobile app development?\\n\\n4. In the context of the Tech Innovators Conference 2023, which workshop or hands-on session are you most excited about and why?\\n\\n5. If you could collaborate on a project that combines your interests in AI, IoT, and Cybersecurity with VR/AR, Web Development, and Mobile App Development, what kind of innovative solution would you create?\\n\\n6. How do you think the integration of AI and IoT with VR/AR technologies could revolutionize the way we interact with the digital world?\\n\\n7. What are some challenges you foresee in merging the fields of AI, IoT, Cybersecurity, VR/AR, Web Development, and Mobile App Development?\\n\\n8. If you could pick one technology from your respective interests to have a significant breakthrough in the next five years, which one would it be and why?\\n\\n9. Share an interesting or unexpected way you've seen your interests (AI, IoT, Cybersecurity, VR/AR, Web Development, or Mobile App Development) applied in real-world scenarios.\\n\\n10. What inspired you to pursue your respective fields, and how do you think attending the Tech Innovators Conference 2023 will help you achieve your goals?\"}]\n",
      "['John Doe', 'Mia Wilson'] True\n"
     ]
    }
   ],
   "source": [
    "questions = generate_questions(event, attendees)\n",
    "json.dump(questions, open('questions.json', 'w'), indent=2)"
   ]
  },
  {
   "cell_type": "code",
   "execution_count": 24,
   "metadata": {},
   "outputs": [
    {
     "data": {
      "text/plain": [
       "False"
      ]
     },
     "execution_count": 24,
     "metadata": {},
     "output_type": "execute_result"
    }
   ],
   "source": [
    "processed = [\n",
    "    ['a', 'b'],\n",
    "    ['b', 'a'],\n",
    "    ['a', 'c'],\n",
    "    ['c', 'a'],\n",
    "]\n",
    "\n",
    "[pair for pair in processed if 'z' in pair and 'b' in pair]\n"
   ]
  }
 ],
 "metadata": {
  "kernelspec": {
   "display_name": "ice-breaker-kYPj9F3u",
   "language": "python",
   "name": "python3"
  },
  "language_info": {
   "codemirror_mode": {
    "name": "ipython",
    "version": 3
   },
   "file_extension": ".py",
   "mimetype": "text/x-python",
   "name": "python",
   "nbconvert_exporter": "python",
   "pygments_lexer": "ipython3",
   "version": "3.9.16"
  },
  "orig_nbformat": 4
 },
 "nbformat": 4,
 "nbformat_minor": 2
}
