{
 "cells": [
  {
   "attachments": {},
   "cell_type": "markdown",
   "metadata": {},
   "source": [
    "#### Attendee registration"
   ]
  },
  {
   "cell_type": "code",
   "execution_count": null,
   "metadata": {},
   "outputs": [],
   "source": [
    "attendees = [\n",
    "    {\n",
    "        'full_name': \"John Doe\",\n",
    "        'email': 'jdoe@icebreaker.com',\n",
    "        'phone': '555-555-5555',\n",
    "        'job_title': 'boss',\n",
    "        'company': 'Icebreaker',\n",
    "        'interests': [\n",
    "            'Artificial Intelligence',\n",
    "            'Internet of Things',\n",
    "            'Cybersecurity',\n",
    "            'Virtual Reality / Augmented Reality',\n",
    "            'Big Data & Analytics',\n",
    "            'Blockchain',\n",
    "            'Robotics',\n",
    "            'Web Development',\n",
    "            'Mobile App Development'\n",
    "        ],\n",
    "        'events': [\n",
    "            {\n",
    "                'event_name': 'NYC AI Hackathon',\n",
    "                'goals': [\n",
    "                    'Networking with peers',\n",
    "                    'Learning about new technologies',\n",
    "                    'Attending workshops and hands-on sessions',\n",
    "                    'Discovering potential business partners',\n",
    "                    \"Presenting or exhibiting my company's products/services\"\n",
    "                ]\n",
    "            }\n",
    "        ]\n",
    "    }\n",
    "]"
   ]
  }
 ],
 "metadata": {
  "language_info": {
   "name": "python"
  },
  "orig_nbformat": 4
 },
 "nbformat": 4,
 "nbformat_minor": 2
}
